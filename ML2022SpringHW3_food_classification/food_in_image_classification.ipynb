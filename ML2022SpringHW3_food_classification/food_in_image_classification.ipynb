{
 "cells": [
  {
   "cell_type": "markdown",
   "metadata": {},
   "source": [
    "# Image Classification\n",
    "\n",
    "## Project Subscription\n",
    "\n",
    "### Objective\n",
    "\n",
    "使用 CNN 完成 image classification, 将 image 中的食物分类。\n",
    "\n",
    "### Data Information\n",
    "\n",
    "#### Number\n",
    "\n",
    "图片来自 food-11 数据集：\n",
    "\n",
    "- Training set\n",
    "\n",
    "    9866 labeled images\n",
    "\n",
    "- Validation set\n",
    "\n",
    "    3430 labeled images\n",
    "\n",
    "- Testing set\n",
    "\n",
    "    3347 images\n",
    "\n",
    "一共 11 种食物。\n",
    "\n",
    "### Format\n",
    "\n",
    "都是 jpg 格式，但尺寸不一，需要先统一到一个尺寸 (128,128)。\n",
    "\n",
    "### File\n",
    "\n",
    "- `./food11/train` - training images : images are named \"x_y.png\", x is the category\n",
    "\n",
    "- `./food11/validation` - validation images : images are named \"x_y.png\", x is the category\n",
    "\n",
    "- `./food11/test` - testing images : images are named \"n.png\", n is the id\n",
    "\n",
    "### Baseline\n",
    "\n",
    "- Simple\n",
    "\n",
    "    0.50099\n",
    "\n",
    "- Medium\n",
    "\n",
    "    0.73207 Training Augmentation + Train Longer\n",
    "\n",
    "- Strong\n",
    "\n",
    "    0.81872 Training Augmentation + Model Design + Train Looonger (+Cross Validation + Ensemble)\n",
    "\n",
    "- Boss\n",
    "\n",
    "    0.88446 Training Augmentation + Model Design + Test Time Augmentation(TTA) + Train Looonger (+ Cross Validation + Ensemble) \n",
    "\n",
    "### Tips\n",
    "\n",
    "- Data Augmentation\n",
    "\n",
    "    - when training\n",
    "    \n",
    "        将图片随机变换，label 保持一致。\n",
    "\n",
    "    - TTA（Test Time Augmentation）\n",
    "\n",
    "        测试时对图片随机做 4 次变换，取 4 张平均结果与单独原图预测结果的加权和。\n",
    "\n",
    "- more train set\n",
    "\n",
    "    当前验证集比例过大，使用更大的训练集会更有效，重新分配比例。"
   ]
  },
  {
   "cell_type": "markdown",
   "metadata": {},
   "source": [
    "## Space Analysis"
   ]
  },
  {
   "cell_type": "code",
   "execution_count": 1,
   "metadata": {},
   "outputs": [
    {
     "name": "stdout",
     "output_type": "stream",
     "text": [
      "### Disk\n",
      "dataset size:\n",
      "training + validation = 895 M\n",
      "test = 237 M\n",
      "### RAM\n",
      "after transformation in (training + validation):\n",
      "example list size = 3116.25 G\n",
      "filename list size = 649.21875 M\n",
      "### GPU\n",
      "one batch size = 48.0 M\n",
      "16 batch size = 0.75 G\n",
      "32 batch size = 1.5 G\n",
      "64 batch size = 3.0 G\n",
      "128 batch size = 6.0 G\n",
      "256 batch size = 12.0 G\n"
     ]
    }
   ],
   "source": [
    "def space_analysis():\n",
    "    BYTE_TO_MB = 1024\n",
    "    BYTE_TO_GB = 1024 * 1024\n",
    "\n",
    "    print('### Disk')\n",
    "    print('dataset size:')\n",
    "    print('training + validation = 895 M')\n",
    "    print('test = 237 M')\n",
    "\n",
    "    print('### RAM')\n",
    "    image_size = 128 * 128 * 3   # RGB\n",
    "    train_file_num = 9866\n",
    "    valid_file_num = 3430\n",
    "    test_set_num = 3347\n",
    "    transform_num = 5\n",
    "\n",
    "    print('after transformation in (training + validation):')\n",
    "    example_num = train_file_num + valid_file_num\n",
    "    print(f'example list size = {example_num * image_size * transform_num / BYTE_TO_GB} G')\n",
    "    max_filename_length = 10\n",
    "    print(f'filename list size = {example_num * transform_num * max_filename_length / BYTE_TO_MB} M')\n",
    "\n",
    "    print('### GPU')\n",
    "    one_batch = image_size\n",
    "    print(f'one batch size = {one_batch / BYTE_TO_MB} M')\n",
    "    arr = [16, 32, 64, 128, 256]\n",
    "    for i in arr:\n",
    "        print(f'{i} batch size = {i * one_batch / BYTE_TO_GB} G')\n",
    "\n",
    "space_analysis()"
   ]
  },
  {
   "cell_type": "markdown",
   "metadata": {},
   "source": [
    "## Import Packages"
   ]
  },
  {
   "cell_type": "code",
   "execution_count": 1,
   "metadata": {},
   "outputs": [
    {
     "name": "stderr",
     "output_type": "stream",
     "text": [
      "d:\\anaconda3\\envs\\pytorch\\lib\\site-packages\\tqdm\\auto.py:22: TqdmWarning: IProgress not found. Please update jupyter and ipywidgets. See https://ipywidgets.readthedocs.io/en/stable/user_install.html\n",
      "  from .autonotebook import tqdm as notebook_tqdm\n"
     ]
    }
   ],
   "source": [
    "import numpy as np\n",
    "import pandas as pd\n",
    "import matplotlib.pyplot as plt\n",
    "\n",
    "import os\n",
    "import math\n",
    "import random\n",
    "\n",
    "import torch\n",
    "import torch.nn as nn\n",
    "from torch.utils.data import random_split, Dataset, DataLoader\n",
    "import torchvision.transforms as transforms\n",
    "from PIL import Image"
   ]
  },
  {
   "cell_type": "markdown",
   "metadata": {},
   "source": [
    "## Configruation"
   ]
  },
  {
   "cell_type": "code",
   "execution_count": 10,
   "metadata": {},
   "outputs": [
    {
     "name": "stdout",
     "output_type": "stream",
     "text": [
      "using cpu device\n"
     ]
    }
   ],
   "source": [
    "class Config:\n",
    "    # data path\n",
    "    training_path = 'food11/training/'\n",
    "    validaiton_path = 'food11/validation/'\n",
    "    test_path = 'food11/test/'\n",
    "\n",
    "    kaggle_path = '../input/ml2022spring-hw3b/'\n",
    "    current_path = os.getcwd()\n",
    "    if 'kaggle/working' in current_path:\n",
    "        training_path = kaggle_path + training_path\n",
    "        validaiton_path = kaggle_path + validaiton_path\n",
    "        test_path = kaggle_path + test_path\n",
    "    \n",
    "    # environment\n",
    "    device = 'cuda' if torch.cuda.is_available() else 'cpu'\n",
    "    seed = 923\n",
    "    best_train_model_save_path = 'best-train-model.ckpt'\n",
    "    best_valid_model_save_path = 'best-valid-model.ckpt'\n",
    "    best_acc_model_save_path = 'best-acc-model.ckpt'\n",
    "    best_train_prediction_save_path = 'best-train-prediction.csv'\n",
    "    best_valid_prediction_save_path = 'best-valid-prediction.csv'\n",
    "    best_acc_predicttion_save_path = 'best-acc-prediction.csv'\n",
    "\n",
    "    # data format\n",
    "    image_size = (128, 128)\n",
    "\n",
    "    # training\n",
    "    n_epoch = 100\n",
    "    n_example = math.inf\n",
    "    batch_size = 64\n",
    "    laerning_rate = 1e-4\n",
    "    weight_decay = 1e-1\n",
    "\n",
    "    # runing test\n",
    "    runing_test = False\n",
    "    if runing_test:\n",
    "        n_epoch = 10\n",
    "        n_example = 200\n",
    "        batch_size = 8\n",
    "\n",
    "print(f'using {Config.device} device')"
   ]
  },
  {
   "cell_type": "markdown",
   "metadata": {},
   "source": [
    "## General Operation"
   ]
  },
  {
   "cell_type": "code",
   "execution_count": 3,
   "metadata": {},
   "outputs": [],
   "source": [
    "def same_seed(seed): \n",
    "    torch.backends.cudnn.deterministic = True   # 卷积都使用默认的卷积算法\n",
    "    torch.backends.cudnn.benchmark = False   # 关闭系统卷积算法选择优化（带随机性）\n",
    "    np.random.seed(seed)   # 为随机算法设置种子。\n",
    "    torch.manual_seed(seed)   # 为 CPU 设置种子。\n",
    "    if torch.cuda.is_available():\n",
    "        torch.cuda.manual_seed_all(seed)   # 为所有 GPU 设置种子。\n",
    "\n",
    "def split_train_valid(data, valid_ratio, seed):\n",
    "    valid_size = int(len(data) * valid_ratio)\n",
    "    train_size = len(data) - valid_size\n",
    "    train_set, valid_set = random_split(data, [train_size, valid_size], generator=torch.Generator().manual_seed(seed))\n",
    "    return train_set, valid_set\n",
    "\n",
    "same_seed(Config.seed)"
   ]
  },
  {
   "cell_type": "markdown",
   "metadata": {},
   "source": [
    "## Data Processing"
   ]
  },
  {
   "cell_type": "code",
   "execution_count": 4,
   "metadata": {},
   "outputs": [],
   "source": [
    "def add_dir_marker(files, filenames, dir_id):   # dir_id: training is 0, validation is 1, testing is 2.\n",
    "    for x in filenames:\n",
    "        files.append([dir_id, x])\n",
    "\n",
    "def get_files(is_test):\n",
    "    files = []\n",
    "    if is_test:\n",
    "        filenames = os.listdir(Config.test_path)\n",
    "        add_dir_marker(files, filenames, 2)\n",
    "    else:\n",
    "        filenames = os.listdir(Config.training_path)\n",
    "        add_dir_marker(files, filenames, 0)\n",
    "        filenames = os.listdir(Config.validaiton_path)\n",
    "        add_dir_marker(files, filenames, 1)\n",
    "    end = Config.n_example if Config.n_example != math.inf else len(filenames)   # for runing test\n",
    "    return files[:end]\n",
    "\n",
    "def load_image(file):\n",
    "    if file[0] == 0:\n",
    "        dir = Config.training_path\n",
    "    elif file[0] == 1:\n",
    "        dir = Config.validaiton_path\n",
    "    else:\n",
    "        dir = Config.test_path\n",
    "    image = Image.open(dir + file[1])\n",
    "    return image\n",
    "\n",
    "def get_label(file):\n",
    "    name = file[1].split('_')\n",
    "    if len(name) <= 1:\n",
    "        return None\n",
    "    else:\n",
    "        return int(name[0])"
   ]
  },
  {
   "cell_type": "code",
   "execution_count": 6,
   "metadata": {},
   "outputs": [],
   "source": [
    "train_files = get_files(False)\n",
    "train_files, valid_files = split_train_valid(train_files, 0.2, Config.seed)"
   ]
  },
  {
   "cell_type": "markdown",
   "metadata": {},
   "source": [
    "## Data Augmentation"
   ]
  },
  {
   "cell_type": "code",
   "execution_count": 5,
   "metadata": {},
   "outputs": [],
   "source": [
    "policy = transforms.AutoAugmentPolicy.IMAGENET   # 一种随机图像变换的策略\n",
    "train_augmenter = transforms.Compose([\n",
    "    transforms.Resize(Config.image_size),\n",
    "    transforms.AutoAugment(policy),\n",
    "    transforms.ToTensor()\n",
    "])\n",
    "\n",
    "simple_transformer = transforms.Compose([\n",
    "    transforms.Resize(Config.image_size),\n",
    "    # transforms.AutoAugment(policy),\n",
    "    transforms.ToTensor()   # into batch should be Tensor or Ndarray\n",
    "])\n",
    "\n",
    "test_augmenter = transforms.Compose([   # also used by validation\n",
    "    transforms.ToPILImage(),   # into AutoAugment should be PIL\n",
    "    transforms.AutoAugment(policy),\n",
    "    transforms.ToTensor()\n",
    "])"
   ]
  },
  {
   "cell_type": "markdown",
   "metadata": {},
   "source": [
    "## Data Integration"
   ]
  },
  {
   "cell_type": "code",
   "execution_count": 6,
   "metadata": {},
   "outputs": [],
   "source": [
    "class FoodDataset(Dataset):\n",
    "    def __init__(self, files, transformer):\n",
    "        super().__init__()\n",
    "        self.files = files\n",
    "        self.transformer = transformer\n",
    "\n",
    "    def __len__(self):\n",
    "        return len(self.files)\n",
    "\n",
    "    def __getitem__(self, index):\n",
    "        file = self.files[index]\n",
    "        image = load_image(file)\n",
    "        label = get_label(file)\n",
    "        if label is None:\n",
    "            return self.transformer(image)\n",
    "        else:\n",
    "            return self.transformer(image), label"
   ]
  },
  {
   "cell_type": "code",
   "execution_count": 9,
   "metadata": {},
   "outputs": [],
   "source": [
    "train_set = FoodDataset(train_files, train_augmenter)\n",
    "valid_set = FoodDataset(valid_files, simple_transformer)\n",
    "train_loader = DataLoader(train_set, batch_size=Config.batch_size, shuffle=True)\n",
    "valid_loader = DataLoader(valid_set, batch_size=Config.batch_size, shuffle=True)"
   ]
  },
  {
   "cell_type": "markdown",
   "metadata": {},
   "source": [
    "## Model Structure"
   ]
  },
  {
   "cell_type": "code",
   "execution_count": 11,
   "metadata": {},
   "outputs": [],
   "source": [
    "class CNNLayer(nn.Module):\n",
    "    def __init__(self, in_channels, out_channels):\n",
    "        super().__init__()\n",
    "        self.layer = nn.Sequential(\n",
    "            nn.Conv2d(in_channels, out_channels, 3, 1, 1),  # [64, 128, 128]\n",
    "            nn.BatchNorm2d(out_channels),\n",
    "            nn.ReLU(),\n",
    "            nn.MaxPool2d(2, 2, 0),      # [64, 64, 64]\n",
    "        )\n",
    "\n",
    "    def forward(self, x):\n",
    "        return self.layer(x)\n",
    "\n",
    "class Classifier(nn.Module):\n",
    "    def __init__(self):\n",
    "        super().__init__()\n",
    "        # input dimension is [3, 128, 128]\n",
    "        # self.cnn = nn.Sequential(\n",
    "        #     nn.Conv2d(3, 64, 3, 1, 1),  # [64, 128, 128]\n",
    "        #     nn.BatchNorm2d(64),\n",
    "        #     nn.ReLU(),\n",
    "        #     nn.MaxPool2d(2, 2, 0),      # [64, 64, 64]\n",
    "\n",
    "        #     nn.Conv2d(64, 128, 3, 1, 1), # [128, 64, 64]\n",
    "        #     nn.BatchNorm2d(128),\n",
    "        #     nn.ReLU(),\n",
    "        #     nn.MaxPool2d(2, 2, 0),      # [128, 32, 32]\n",
    "\n",
    "        #     nn.Conv2d(128, 256, 3, 1, 1), # [256, 32, 32]\n",
    "        #     nn.BatchNorm2d(256),\n",
    "        #     nn.ReLU(),\n",
    "        #     nn.MaxPool2d(2, 2, 0),      # [256, 16, 16]\n",
    "\n",
    "        #     nn.Conv2d(256, 512, 3, 1, 1), # [512, 16, 16]\n",
    "        #     nn.BatchNorm2d(512),\n",
    "        #     nn.ReLU(),\n",
    "        #     nn.MaxPool2d(2, 2, 0),       # [512, 8, 8]\n",
    "            \n",
    "        #     nn.Conv2d(512, 512, 3, 1, 1), # [512, 8, 8]\n",
    "        #     nn.BatchNorm2d(512),\n",
    "        #     nn.ReLU(),\n",
    "        #     nn.MaxPool2d(2, 2, 0),       # [512, 4, 4]\n",
    "        # )\n",
    "\n",
    "        self.in_channels = [3, 64, 128, 256, 512]\n",
    "        self.out_channels = [64, 128, 256, 512, 512]\n",
    "        # self.in_channels = [3, 32, 64, 128]\n",
    "        # self.out_channels = [32, 64, 128, 256]\n",
    "        self.cnn_layers = nn.ModuleList([CNNLayer(self.in_channels[i], self.out_channels[i]).to(Config.device) for i in range(len(self.in_channels))])\n",
    "        \n",
    "        self.fc = nn.Sequential(\n",
    "            nn.Linear(512*4*4, 1024),\n",
    "            # nn.Linear(256*8*8, 1024),\n",
    "            nn.Dropout(),\n",
    "            nn.ReLU(),\n",
    "            nn.Linear(1024, 128),\n",
    "            nn.Dropout(),\n",
    "            nn.ReLU(),\n",
    "            nn.Linear(128, 11),\n",
    "        )\n",
    "\n",
    "    def forward(self, x):\n",
    "        for i in range(len(self.in_channels)):\n",
    "            x = self.cnn_layers[i](x)\n",
    "        x = x.flatten(start_dim=1, end_dim=-1)\n",
    "        x = self.fc(x)\n",
    "        return x\n",
    "\n",
    "model = Classifier().to(Config.device)"
   ]
  },
  {
   "cell_type": "code",
   "execution_count": 11,
   "metadata": {},
   "outputs": [
    {
     "name": "stdout",
     "output_type": "stream",
     "text": [
      "Classifier(\n",
      "  (cnn_layers): ModuleList(\n",
      "    (0): CNNLayer(\n",
      "      (layer): Sequential(\n",
      "        (0): Conv2d(3, 32, kernel_size=(3, 3), stride=(1, 1), padding=(1, 1))\n",
      "        (1): BatchNorm2d(32, eps=1e-05, momentum=0.1, affine=True, track_running_stats=True)\n",
      "        (2): Dropout2d(p=0.5, inplace=False)\n",
      "        (3): ReLU()\n",
      "        (4): MaxPool2d(kernel_size=2, stride=2, padding=0, dilation=1, ceil_mode=False)\n",
      "      )\n",
      "    )\n",
      "    (1): CNNLayer(\n",
      "      (layer): Sequential(\n",
      "        (0): Conv2d(32, 64, kernel_size=(3, 3), stride=(1, 1), padding=(1, 1))\n",
      "        (1): BatchNorm2d(64, eps=1e-05, momentum=0.1, affine=True, track_running_stats=True)\n",
      "        (2): Dropout2d(p=0.5, inplace=False)\n",
      "        (3): ReLU()\n",
      "        (4): MaxPool2d(kernel_size=2, stride=2, padding=0, dilation=1, ceil_mode=False)\n",
      "      )\n",
      "    )\n",
      "    (2): CNNLayer(\n",
      "      (layer): Sequential(\n",
      "        (0): Conv2d(64, 128, kernel_size=(3, 3), stride=(1, 1), padding=(1, 1))\n",
      "        (1): BatchNorm2d(128, eps=1e-05, momentum=0.1, affine=True, track_running_stats=True)\n",
      "        (2): Dropout2d(p=0.5, inplace=False)\n",
      "        (3): ReLU()\n",
      "        (4): MaxPool2d(kernel_size=2, stride=2, padding=0, dilation=1, ceil_mode=False)\n",
      "      )\n",
      "    )\n",
      "    (3): CNNLayer(\n",
      "      (layer): Sequential(\n",
      "        (0): Conv2d(128, 256, kernel_size=(3, 3), stride=(1, 1), padding=(1, 1))\n",
      "        (1): BatchNorm2d(256, eps=1e-05, momentum=0.1, affine=True, track_running_stats=True)\n",
      "        (2): Dropout2d(p=0.5, inplace=False)\n",
      "        (3): ReLU()\n",
      "        (4): MaxPool2d(kernel_size=2, stride=2, padding=0, dilation=1, ceil_mode=False)\n",
      "      )\n",
      "    )\n",
      "  )\n",
      "  (fc): Sequential(\n",
      "    (0): Linear(in_features=16384, out_features=1024, bias=True)\n",
      "    (1): Dropout(p=0.5, inplace=False)\n",
      "    (2): ReLU()\n",
      "    (3): Linear(in_features=1024, out_features=128, bias=True)\n",
      "    (4): Dropout(p=0.5, inplace=False)\n",
      "    (5): ReLU()\n",
      "    (6): Linear(in_features=128, out_features=11, bias=True)\n",
      "  )\n",
      ")\n"
     ]
    }
   ],
   "source": [
    "print(model)"
   ]
  },
  {
   "cell_type": "markdown",
   "metadata": {},
   "source": [
    "## Training Loop"
   ]
  },
  {
   "cell_type": "code",
   "execution_count": 12,
   "metadata": {},
   "outputs": [
    {
     "name": "stdout",
     "output_type": "stream",
     "text": [
      "### [1/10] train loss = 0.2586, valid loss = 0.0128, acc = 1.0000\n",
      "### [1/10] best train model saved ###\n",
      "### [1/10] best valid model saved ###\n",
      "### [1/10] best acc model saved ###\n",
      "### [2/10] train loss = 0.0000, valid loss = 0.0003, acc = 1.0000\n",
      "### [2/10] best train model saved ###\n",
      "### [2/10] best valid model saved ###\n",
      "### [3/10] train loss = 0.0000, valid loss = 0.0002, acc = 1.0000\n",
      "### [3/10] best train model saved ###\n",
      "### [3/10] best valid model saved ###\n",
      "### [4/10] train loss = 0.0002, valid loss = 0.0005, acc = 1.0000\n"
     ]
    },
    {
     "ename": "KeyboardInterrupt",
     "evalue": "",
     "output_type": "error",
     "traceback": [
      "\u001b[1;31m---------------------------------------------------------------------------\u001b[0m",
      "\u001b[1;31mKeyboardInterrupt\u001b[0m                         Traceback (most recent call last)",
      "\u001b[1;32md:\\home\\programing\\Python\\food_in_image_classification\\food_in_image_classification.ipynb Cell 22\u001b[0m in \u001b[0;36m<cell line: 66>\u001b[1;34m()\u001b[0m\n\u001b[0;32m     <a href='vscode-notebook-cell:/d%3A/home/programing/Python/food_in_image_classification/food_in_image_classification.ipynb#X30sZmlsZQ%3D%3D?line=61'>62</a>\u001b[0m             \u001b[39mprint\u001b[39m(\u001b[39mf\u001b[39m\u001b[39m'\u001b[39m\u001b[39m### [\u001b[39m\u001b[39m{\u001b[39;00mepoch \u001b[39m+\u001b[39m \u001b[39m1\u001b[39m\u001b[39m}\u001b[39;00m\u001b[39m/\u001b[39m\u001b[39m{\u001b[39;00mConfig\u001b[39m.\u001b[39mn_epoch\u001b[39m}\u001b[39;00m\u001b[39m] best acc model saved ###\u001b[39m\u001b[39m'\u001b[39m)\n\u001b[0;32m     <a href='vscode-notebook-cell:/d%3A/home/programing/Python/food_in_image_classification/food_in_image_classification.ipynb#X30sZmlsZQ%3D%3D?line=63'>64</a>\u001b[0m     \u001b[39mreturn\u001b[39;00m epoch_train_loss, epoch_valid_loss, epoch_acc\n\u001b[1;32m---> <a href='vscode-notebook-cell:/d%3A/home/programing/Python/food_in_image_classification/food_in_image_classification.ipynb#X30sZmlsZQ%3D%3D?line=65'>66</a>\u001b[0m train_loss, valid_loss, epoch_acc \u001b[39m=\u001b[39m training(model, train_loader, valid_loader)\n\u001b[0;32m     <a href='vscode-notebook-cell:/d%3A/home/programing/Python/food_in_image_classification/food_in_image_classification.ipynb#X30sZmlsZQ%3D%3D?line=66'>67</a>\u001b[0m \u001b[39mprint\u001b[39m(\u001b[39mf\u001b[39m\u001b[39m'\u001b[39m\u001b[39mbest train loss = \u001b[39m\u001b[39m{\u001b[39;00mnp\u001b[39m.\u001b[39mmin(train_loss)\u001b[39m:\u001b[39;00m\u001b[39m.4f\u001b[39m\u001b[39m}\u001b[39;00m\u001b[39m, best valid loss = \u001b[39m\u001b[39m{\u001b[39;00mnp\u001b[39m.\u001b[39mmin(valid_loss)\u001b[39m:\u001b[39;00m\u001b[39m.4f\u001b[39m\u001b[39m}\u001b[39;00m\u001b[39m, best acc = \u001b[39m\u001b[39m{\u001b[39;00mnp\u001b[39m.\u001b[39mmax(epoch_acc)\u001b[39m:\u001b[39;00m\u001b[39m.4f\u001b[39m\u001b[39m}\u001b[39;00m\u001b[39m'\u001b[39m)\n",
      "\u001b[1;32md:\\home\\programing\\Python\\food_in_image_classification\\food_in_image_classification.ipynb Cell 22\u001b[0m in \u001b[0;36mtraining\u001b[1;34m(model, train_loader, valid_loader)\u001b[0m\n\u001b[0;32m     <a href='vscode-notebook-cell:/d%3A/home/programing/Python/food_in_image_classification/food_in_image_classification.ipynb#X30sZmlsZQ%3D%3D?line=22'>23</a>\u001b[0m loss \u001b[39m=\u001b[39m criterion(logits, labels)\n\u001b[0;32m     <a href='vscode-notebook-cell:/d%3A/home/programing/Python/food_in_image_classification/food_in_image_classification.ipynb#X30sZmlsZQ%3D%3D?line=23'>24</a>\u001b[0m optimizer\u001b[39m.\u001b[39mzero_grad()\n\u001b[1;32m---> <a href='vscode-notebook-cell:/d%3A/home/programing/Python/food_in_image_classification/food_in_image_classification.ipynb#X30sZmlsZQ%3D%3D?line=24'>25</a>\u001b[0m loss\u001b[39m.\u001b[39;49mbackward()\n\u001b[0;32m     <a href='vscode-notebook-cell:/d%3A/home/programing/Python/food_in_image_classification/food_in_image_classification.ipynb#X30sZmlsZQ%3D%3D?line=25'>26</a>\u001b[0m grad_norm \u001b[39m=\u001b[39m nn\u001b[39m.\u001b[39mutils\u001b[39m.\u001b[39mclip_grad_norm_(model\u001b[39m.\u001b[39mparameters(), max_norm\u001b[39m=\u001b[39m\u001b[39m10\u001b[39m)\n\u001b[0;32m     <a href='vscode-notebook-cell:/d%3A/home/programing/Python/food_in_image_classification/food_in_image_classification.ipynb#X30sZmlsZQ%3D%3D?line=26'>27</a>\u001b[0m optimizer\u001b[39m.\u001b[39mstep()\n",
      "File \u001b[1;32md:\\anaconda3\\envs\\pytorch\\lib\\site-packages\\torch\\_tensor.py:363\u001b[0m, in \u001b[0;36mTensor.backward\u001b[1;34m(self, gradient, retain_graph, create_graph, inputs)\u001b[0m\n\u001b[0;32m    354\u001b[0m \u001b[39mif\u001b[39;00m has_torch_function_unary(\u001b[39mself\u001b[39m):\n\u001b[0;32m    355\u001b[0m     \u001b[39mreturn\u001b[39;00m handle_torch_function(\n\u001b[0;32m    356\u001b[0m         Tensor\u001b[39m.\u001b[39mbackward,\n\u001b[0;32m    357\u001b[0m         (\u001b[39mself\u001b[39m,),\n\u001b[1;32m   (...)\u001b[0m\n\u001b[0;32m    361\u001b[0m         create_graph\u001b[39m=\u001b[39mcreate_graph,\n\u001b[0;32m    362\u001b[0m         inputs\u001b[39m=\u001b[39minputs)\n\u001b[1;32m--> 363\u001b[0m torch\u001b[39m.\u001b[39;49mautograd\u001b[39m.\u001b[39;49mbackward(\u001b[39mself\u001b[39;49m, gradient, retain_graph, create_graph, inputs\u001b[39m=\u001b[39;49minputs)\n",
      "File \u001b[1;32md:\\anaconda3\\envs\\pytorch\\lib\\site-packages\\torch\\autograd\\__init__.py:173\u001b[0m, in \u001b[0;36mbackward\u001b[1;34m(tensors, grad_tensors, retain_graph, create_graph, grad_variables, inputs)\u001b[0m\n\u001b[0;32m    168\u001b[0m     retain_graph \u001b[39m=\u001b[39m create_graph\n\u001b[0;32m    170\u001b[0m \u001b[39m# The reason we repeat same the comment below is that\u001b[39;00m\n\u001b[0;32m    171\u001b[0m \u001b[39m# some Python versions print out the first line of a multi-line function\u001b[39;00m\n\u001b[0;32m    172\u001b[0m \u001b[39m# calls in the traceback and some print out the last line\u001b[39;00m\n\u001b[1;32m--> 173\u001b[0m Variable\u001b[39m.\u001b[39;49m_execution_engine\u001b[39m.\u001b[39;49mrun_backward(  \u001b[39m# Calls into the C++ engine to run the backward pass\u001b[39;49;00m\n\u001b[0;32m    174\u001b[0m     tensors, grad_tensors_, retain_graph, create_graph, inputs,\n\u001b[0;32m    175\u001b[0m     allow_unreachable\u001b[39m=\u001b[39;49m\u001b[39mTrue\u001b[39;49;00m, accumulate_grad\u001b[39m=\u001b[39;49m\u001b[39mTrue\u001b[39;49;00m)\n",
      "\u001b[1;31mKeyboardInterrupt\u001b[0m: "
     ]
    }
   ],
   "source": [
    "def training(model, train_loader, valid_loader):\n",
    "    epoch_train_loss = []\n",
    "    epoch_valid_loss = []\n",
    "    epoch_acc = []\n",
    "    best_train_loss = math.inf\n",
    "    best_valid_loss = math.inf\n",
    "    best_acc = -1\n",
    "\n",
    "    criterion = nn.CrossEntropyLoss()\n",
    "    optimizer = torch.optim.Adam(model.parameters(), lr=Config.laerning_rate, weight_decay=Config.weight_decay)\n",
    "    for epoch in range(Config.n_epoch):\n",
    "\n",
    "        batch_train_loss = []\n",
    "        batch_valid_loss = []\n",
    "        batch_acc = []\n",
    "\n",
    "        model.train()\n",
    "        for batch in train_loader:\n",
    "            images, labels = batch\n",
    "            images = images.to(Config.device)\n",
    "            labels = labels.to(Config.device)\n",
    "            logits = model(images)\n",
    "            loss = criterion(logits, labels)\n",
    "            optimizer.zero_grad()\n",
    "            loss.backward()\n",
    "            # grad_norm = nn.utils.clip_grad_norm_(model.parameters(), max_norm=10)\n",
    "            optimizer.step()\n",
    "            \n",
    "            batch_train_loss.append(loss.item())            \n",
    "\n",
    "        model.eval()\n",
    "        for batch in valid_loader:\n",
    "            images, labels = batch\n",
    "            images = images.to(Config.device)\n",
    "            labels = labels.to(Config.device)\n",
    "            logits = model(images)\n",
    "            loss = criterion(logits, labels)\n",
    "\n",
    "            batch_valid_loss.append(loss.item())\n",
    "            acc = (logits.argmax(dim=1) == labels).float().mean().cpu()\n",
    "            batch_acc.append(acc)\n",
    "        \n",
    "        train_mean_loss = np.mean(batch_train_loss)\n",
    "        valid_mean_loss = np.mean(batch_valid_loss)\n",
    "        mean_acc = np.mean(batch_acc)\n",
    "        epoch_train_loss.append(train_mean_loss)\n",
    "        epoch_valid_loss.append(valid_mean_loss)\n",
    "        epoch_acc.append(mean_acc)\n",
    "        print(f'### [{epoch + 1}/{Config.n_epoch}] train loss = {train_mean_loss:.4f}, valid loss = {valid_mean_loss:.4f}, acc = {mean_acc:.4f}')\n",
    "\n",
    "        if train_mean_loss < best_train_loss:\n",
    "            best_train_loss = train_mean_loss\n",
    "            torch.save(model.state_dict(), Config.best_train_model_save_path)\n",
    "            print(f'### [{epoch + 1}/{Config.n_epoch}] best train model saved ###')\n",
    "        if valid_mean_loss < best_valid_loss:\n",
    "            best_valid_loss = valid_mean_loss\n",
    "            torch.save(model.state_dict(), Config.best_valid_model_save_path)\n",
    "            print(f'### [{epoch + 1}/{Config.n_epoch}] best valid model saved ###')\n",
    "        if  mean_acc > best_acc:\n",
    "            best_acc = mean_acc\n",
    "            torch.save(model.state_dict(), Config.best_acc_model_save_path)\n",
    "            print(f'### [{epoch + 1}/{Config.n_epoch}] best acc model saved ###')\n",
    "\n",
    "    return epoch_train_loss, epoch_valid_loss, epoch_acc\n",
    "    \n",
    "train_loss, valid_loss, epoch_acc = training(model, train_loader, valid_loader)\n",
    "print(f'best train loss = {np.min(train_loss):.4f}, best valid loss = {np.min(valid_loss):.4f}, best acc = {np.max(epoch_acc):.4f}')"
   ]
  },
  {
   "cell_type": "markdown",
   "metadata": {},
   "source": [
    "## Loss Curve"
   ]
  },
  {
   "cell_type": "code",
   "execution_count": null,
   "metadata": {},
   "outputs": [
    {
     "data": {
      "image/png": "[encoded data removed]",
      "text/plain": [
       "<Figure size 432x288 with 1 Axes>"
      ]
     },
     "metadata": {
      "needs_background": "light"
     },
     "output_type": "display_data"
    },
    {
     "data": {
      "image/png": "[encoded data removed]",
      "text/plain": [
       "<Figure size 432x288 with 1 Axes>"
      ]
     },
     "metadata": {
      "needs_background": "light"
     },
     "output_type": "display_data"
    }
   ],
   "source": [
    "def loss_curve(train_loss, valid_loss, epoch_acc):\n",
    "    x = list(range(len(train_loss)))\n",
    "    plt.figure()\n",
    "    plt.xlabel('epoch - 1')\n",
    "    plt.ylabel('loss')\n",
    "    plt.plot(x, train_loss, label='train loss')\n",
    "    plt.plot(x, valid_loss, label='valid loss')\n",
    "    plt.legend()\n",
    "    plt.show()\n",
    "\n",
    "    plt.figure()\n",
    "    plt.xlabel('epoch - 1')\n",
    "    plt.ylabel('acc')\n",
    "    plt.plot(x, epoch_acc)\n",
    "    plt.show()\n",
    "\n",
    "loss_curve(train_loss, valid_loss, epoch_acc)"
   ]
  },
  {
   "cell_type": "markdown",
   "metadata": {},
   "source": [
    "## Prediction"
   ]
  },
  {
   "cell_type": "code",
   "execution_count": 14,
   "metadata": {},
   "outputs": [
    {
     "name": "stdout",
     "output_type": "stream",
     "text": [
      "prediction saved\n"
     ]
    }
   ],
   "source": [
    "def predict(model, test_loader, path):\n",
    "    model.load_state_dict(torch.load(path, map_location=torch.device(Config.device)))\n",
    "    answers = []\n",
    "    model.eval()\n",
    "    with torch.no_grad():\n",
    "        for batch in test_loader:\n",
    "            images = batch.to(Config.device)\n",
    "            finall_logits = model(images) * 0.5\n",
    "\n",
    "            for _ in range(4):   # 4 times augmentation\n",
    "                augmented = torch.zeros(*images.shape).to(Config.device)\n",
    "\n",
    "                for i, image in enumerate(images):   # each image in a batch\n",
    "                    augmented[i] = test_augmenter(image)\n",
    "\n",
    "                logits = model(augmented)\n",
    "                finall_logits += 0.5 * 0.25 * logits\n",
    "            \n",
    "            answers += finall_logits.argmax(dim=1).tolist()\n",
    "\n",
    "    return answers\n",
    "        \n",
    "def save_answers(answers, path):\n",
    "    Id = [f'{i:04d}' for i in range(1, len(answers) + 1)]\n",
    "    df = pd.DataFrame({'Category': answers}, index=Id)\n",
    "    df.to_csv(path, index_label='Id')\n",
    "    print('prediction saved')\n",
    "    \n",
    "files = get_files(True)\n",
    "test_set = FoodDataset(files, simple_transformer)\n",
    "test_loader = DataLoader(test_set, batch_size=Config.batch_size)\n",
    "model = Classifier().to(Config.device)\n",
    "\n",
    "# answers = predict(model, test_loader, Config.best_train_model_save_path)\n",
    "# save_answers(answers, Config.best_train_prediction_save_path)\n",
    "\n",
    "# answers = predict(model, test_loader, Config.best_valid_model_save_path)\n",
    "# save_answers(answers, Config.best_valid_prediction_save_path)\n",
    "\n",
    "answers = predict(model, test_loader, Config.best_acc_model_save_path)\n",
    "save_answers(answers, Config.best_acc_predicttion_save_path)"
   ]
  }
 ],
 "metadata": {
  "kernelspec": {
   "display_name": "Python 3.10.4 ('pytorch')",
   "language": "python",
   "name": "python3"
  },
  "language_info": {
   "codemirror_mode": {
    "name": "ipython",
    "version": 3
   },
   "file_extension": ".py",
   "mimetype": "text/x-python",
   "name": "python",
   "nbconvert_exporter": "python",
   "pygments_lexer": "ipython3",
   "version": "3.10.4"
  },
  "orig_nbformat": 4,
  "vscode": {
   "interpreter": {
    "hash": "71342f419acc3ba6ae382518c4ba2a9e6f9bd8751a76a463bc8e77674675b221"
   }
  }
 },
 "nbformat": 4,
 "nbformat_minor": 2
}

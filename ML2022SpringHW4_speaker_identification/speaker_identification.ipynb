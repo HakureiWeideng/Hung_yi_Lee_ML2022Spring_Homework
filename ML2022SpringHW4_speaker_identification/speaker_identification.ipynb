{
 "cells": [
  {
   "cell_type": "markdown",
   "metadata": {},
   "source": [
    "# Speaker Identification\n",
    "\n",
    "## Project Description\n",
    "\n",
    "### Task\n",
    "\n",
    "辨别声音来自哪类。\n",
    "\n",
    "### Dataset\n",
    "\n",
    "数据来自 [VoxCeleb2](https://www.robots.ox.ac.uk/~vgg/data/voxceleb/vox2.html) ，取其一部分。\n",
    "\n",
    "- training\n",
    "\n",
    "    56666 个预处理后的带标签音频。\n",
    "\n",
    "- testing\n",
    "\n",
    "    4000 个预处理后不带标签的音频。\n",
    "\n",
    "- label\n",
    "\n",
    "    共 600 个类，每类代表一个说话人。\n",
    "\n",
    "### Data Format\n",
    "\n",
    "- `metadata.json`\n",
    "\n",
    "    - `\"n_mels\"`\n",
    "\n",
    "        每个 speaker 含有的音频（mel-spectrogram）数量。\n",
    "\n",
    "    - `\"speakers\"`\n",
    "\n",
    "        一个字典。\n",
    "\n",
    "        - Key\n",
    "\n",
    "            speaker name（例：`idxxxxxx`）。\n",
    "\n",
    "        - Value\n",
    "\n",
    "            音频路径和长度。`feature_path, mel_len`\n",
    "\n",
    "- `testdata.json`\n",
    "\n",
    "    格式同 `metadata.json`，只是 `\"speakers\"` 换为 `\"utterances\"` 。\n",
    "\n",
    "- `mapping.json`\n",
    "\n",
    "    字典，speaker name 到 speaker 数字 id [0, 599] 的映射，和 speaker 数字 id 到 speaker name 的映射。\n",
    "\n",
    "- `uttr-{random string}.pt`\n",
    "\n",
    "    音频数据。\n",
    "\n",
    "### Method\n",
    "\n",
    "- 每个音频每次用到随机取一段使用，长度为 `segment_len`，不足则补充小数值。\n",
    "\n",
    "- Transformer 提取特征，然后通过全连接神经网络。"
   ]
  },
  {
   "cell_type": "markdown",
   "metadata": {},
   "source": [
    "## Import Package"
   ]
  },
  {
   "cell_type": "code",
   "execution_count": 13,
   "metadata": {},
   "outputs": [],
   "source": [
    "import numpy as np\n",
    "import pandas as pd\n",
    "import matplotlib.pyplot as plt\n",
    "\n",
    "import os\n",
    "import json\n",
    "import random\n",
    "import time\n",
    "\n",
    "import torch\n",
    "import torch.nn as nn\n",
    "from torch.utils.data import Dataset, DataLoader, random_split\n",
    "from torch.optim import Optimizer\n",
    "from torch.optim.lr_scheduler import LambdaLR"
   ]
  },
  {
   "cell_type": "markdown",
   "metadata": {},
   "source": [
    "## Package Version"
   ]
  },
  {
   "cell_type": "code",
   "execution_count": 14,
   "metadata": {},
   "outputs": [
    {
     "name": "stdout",
     "output_type": "stream",
     "text": [
      "Python 3.10.4\n",
      "matplotlib 3.5.2\n",
      "numpy 1.22.3\n",
      "torch 1.11.0\n",
      "pandas 1.4.2\n"
     ]
    }
   ],
   "source": [
    "''' local\n",
    "Python 3.10.4\n",
    "matplotlib 3.5.2\n",
    "numpy 1.22.3\n",
    "torch 1.11.0\n",
    "pandas 1.4.2\n",
    "'''\n",
    "\n",
    "''' Kaggle\n",
    "Python 3.7.12\n",
    "matplotlib 3.5.3\n",
    "numpy 1.21.6\n",
    "torch 1.12.0\n",
    "pandas 1.3.5\n",
    "'''\n",
    "def package_version():\n",
    "\n",
    "    ! python -V\n",
    "\n",
    "    import pkg_resources\n",
    "    import types\n",
    "\n",
    "    poorly_named_packages = {\n",
    "        \"PIL\": \"Pillow\",\n",
    "        \"sklearn\": \"scikit-learn\"\n",
    "    }   # package name is different to import name\n",
    "\n",
    "    imports = []\n",
    "    for name, val in globals().items():\n",
    "        if isinstance(val, types.ModuleType):\n",
    "            name = val.__name__.split(\".\")[0]\n",
    "        elif isinstance(val, type):\n",
    "            name = val.__module__.split(\".\")[0]\n",
    "        if name in poorly_named_packages.keys():\n",
    "            name = poorly_named_packages[name]\n",
    "        imports.append(name)\n",
    "\n",
    "    for x in pkg_resources.working_set:\n",
    "        if x.project_name in imports and x.project_name != \"pip\":\n",
    "            print(f\"{x.project_name} {x.version}\")\n",
    "\n",
    "package_version()"
   ]
  },
  {
   "cell_type": "markdown",
   "metadata": {},
   "source": [
    "## Configuration"
   ]
  },
  {
   "cell_type": "code",
   "execution_count": 15,
   "metadata": {},
   "outputs": [
    {
     "name": "stdout",
     "output_type": "stream",
     "text": [
      "Using cpu device\n"
     ]
    }
   ],
   "source": [
    "class Config:\n",
    "    # data path\n",
    "    data_path = './Dataset/'\n",
    "    metadata_path = './Dataset/metadata.json'\n",
    "    mapping_path = './Dataset/mapping.json'\n",
    "    testdata_path = './Dataset/testdata.json'\n",
    "\n",
    "    # local or cloud\n",
    "    if 'kaggle/working' in os.getcwd(): \n",
    "        at_cloud = True\n",
    "        data_path = '/kaggle/input/ml2022spring-hw4/Dataset/'\n",
    "        metadata_path = data_path + 'metadata.json'\n",
    "        mapping_path =  data_path + 'mapping.json'\n",
    "        testdata_path = data_path + 'testdata.json'\n",
    "    else:\n",
    "        at_cloud = False\n",
    "\n",
    "    # environment\n",
    "    device = 'cuda' if torch.cuda.is_available() else 'cpu'   # 类变量\n",
    "    seed = 923\n",
    "    model_save_path = './model.ckpt'\n",
    "\n",
    "    # NN structure\n",
    "    input_dim = 40\n",
    "    output_dim = 600   # speaker number\n",
    "    segment_len = 160   # 输入 Transformer 的特征向量序列长度。\n",
    "    d_model = 128    # 输入 Transformer 特征向量的长度，由 mel 的 40 经 prenet 扩展到 80 。\n",
    "    num_encoder_layer = 2\n",
    "    dropout = 0.1\n",
    "    nhead = 2\n",
    "\n",
    "    # training\n",
    "    n_example = 56666\n",
    "    n_epoch = 300\n",
    "    validation_ratio = 0.2\n",
    "    batch_size = 64\n",
    "    warmup_steps = 50\n",
    "    n_worker = 0\n",
    "    begin_saving_epoch = 100\n",
    "    weight_decay = 1e-2   # 默认值\n",
    "\n",
    "    # test\n",
    "    num_segment = 5   # 5 random segment to 1 results\n",
    "\n",
    "    # runing_test\n",
    "    runing_test = True   # need be modified by hand\n",
    "    if runing_test:\n",
    "        n_example = 70\n",
    "        n_epoch = 4\n",
    "        begin_saving_epoch = 2\n",
    "\n",
    "    if at_cloud:\n",
    "        n_worker = 2\n",
    "\n",
    "print(f\"Using {Config.device} device\")"
   ]
  },
  {
   "cell_type": "markdown",
   "metadata": {},
   "source": [
    "## Random Seed"
   ]
  },
  {
   "cell_type": "code",
   "execution_count": 16,
   "metadata": {},
   "outputs": [],
   "source": [
    "def random_seed(seed): \n",
    "    torch.backends.cudnn.deterministic = True   # 卷积都使用默认的卷积算法\n",
    "    torch.backends.cudnn.benchmark = False   # 关闭系统卷积算法选择优化（带随机性）\n",
    "    np.random.seed(seed)   # 为随机算法设置种子。\n",
    "    torch.manual_seed(seed)   # 为 CPU 设置种子。\n",
    "    if torch.cuda.is_available():\n",
    "        torch.cuda.manual_seed_all(seed)   # 为所有 GPU 设置种子。"
   ]
  },
  {
   "cell_type": "markdown",
   "metadata": {},
   "source": [
    "## Data Processing"
   ]
  },
  {
   "cell_type": "code",
   "execution_count": 17,
   "metadata": {},
   "outputs": [],
   "source": [
    "def get_file(path):\n",
    "    with open(path, 'r') as f:\n",
    "        return json.load(f)\n",
    "\n",
    "def split_train_validate(dataset):\n",
    "    dataset_len = len(dataset)\n",
    "    validate_len = int(dataset_len * Config.validation_ratio)\n",
    "    train_len = dataset_len - validate_len\n",
    "    train_set, validate_set = random_split(dataset, [train_len, validate_len], generator=torch.Generator().manual_seed(Config.seed))\n",
    "    return train_set, validate_set\n",
    "\n",
    "def get_segment(mel):\n",
    "    if len(mel) > Config.segment_len:\n",
    "        start_position = random.randint(0, len(mel) - Config.segment_len)\n",
    "        mel = mel[start_position : start_position + Config.segment_len]\n",
    "    else:\n",
    "        add = Config.segment_len - len(mel)\n",
    "        mel = torch.nn.functional.pad(mel, pad=(0, 0, 0, add), mode='constant', value=1e-8)   # a very small value\n",
    "    return mel"
   ]
  },
  {
   "cell_type": "markdown",
   "metadata": {},
   "source": [
    "## Data Intergration"
   ]
  },
  {
   "cell_type": "code",
   "execution_count": 18,
   "metadata": {},
   "outputs": [],
   "source": [
    "class MyDataset(Dataset):\n",
    "    def checkmode(self):\n",
    "        if self.mode == 'training' or self.mode == 'validation':\n",
    "            return True\n",
    "        elif self.mode == 'test':\n",
    "            return False\n",
    "        else:\n",
    "            exit(-1)\n",
    "\n",
    "    def __init__(self, mode):\n",
    "        self.mode = mode\n",
    "        self.data = []\n",
    "\n",
    "        if self.checkmode():\n",
    "            self.metadata = get_file(Config.metadata_path)['speakers']\n",
    "            self.speaker2id = get_file(Config.mapping_path)['speaker2id']\n",
    "            count = 0\n",
    "            for speaker in self.speaker2id.keys():\n",
    "                count += 1\n",
    "                if Config.runing_test and count > Config.n_example:\n",
    "                    break\n",
    "                for x in self.metadata[speaker]:\n",
    "                    self.data.append([x['feature_path'], self.speaker2id[speaker]])   # [uttr filename, id]\n",
    "        else:\n",
    "            uttrs = get_file(Config.testdata_path)['utterances']\n",
    "            count = 0\n",
    "            for x in uttrs:\n",
    "                count += 1\n",
    "                if Config.runing_test and count > Config.n_example:\n",
    "                    break\n",
    "                self.data.append(x['feature_path'])\n",
    "\n",
    "    def __len__(self):\n",
    "        return len(self.data)\n",
    "\n",
    "    def __getitem__(self, index):\n",
    "        if self.checkmode():\n",
    "            feature_filename, id = self.data[index]\n",
    "        else:\n",
    "            feature_filename = self.data[index]\n",
    "\n",
    "        mel = torch.load(os.path.join(Config.data_path, feature_filename))\n",
    "        mel = get_segment(mel)\n",
    "\n",
    "        if self.checkmode():\n",
    "            return mel, id\n",
    "        else:\n",
    "            return mel\n",
    "\n",
    "# dataset = MyDataset('training')\n",
    "# train_set, validate_set = split_train_validate(dataset)\n",
    "# train_loader = DataLoader(train_set, Config.batch_size, shuffle=True)\n",
    "# validate_loader = DataLoader(validate_set, Config.batch_size, shuffle=True)\n",
    "# for x in validate_loader:\n",
    "#     mel, id = x\n",
    "#     print(mel.shape)   # mel shape = (batch_size, segment_len, 40)\n",
    "#     break"
   ]
  },
  {
   "cell_type": "markdown",
   "metadata": {},
   "source": [
    "## Model Structure"
   ]
  },
  {
   "cell_type": "code",
   "execution_count": 19,
   "metadata": {},
   "outputs": [
    {
     "name": "stdout",
     "output_type": "stream",
     "text": [
      "Classifier(\n",
      "  (prenet): Linear(in_features=40, out_features=128, bias=True)\n",
      "  (encoder_layer): TransformerEncoderLayer(\n",
      "    (self_attn): MultiheadAttention(\n",
      "      (out_proj): NonDynamicallyQuantizableLinear(in_features=128, out_features=128, bias=True)\n",
      "    )\n",
      "    (linear1): Linear(in_features=128, out_features=256, bias=True)\n",
      "    (dropout): Dropout(p=0.1, inplace=False)\n",
      "    (linear2): Linear(in_features=256, out_features=128, bias=True)\n",
      "    (norm1): LayerNorm((128,), eps=1e-05, elementwise_affine=True)\n",
      "    (norm2): LayerNorm((128,), eps=1e-05, elementwise_affine=True)\n",
      "    (dropout1): Dropout(p=0.1, inplace=False)\n",
      "    (dropout2): Dropout(p=0.1, inplace=False)\n",
      "  )\n",
      "  (encoder): TransformerEncoder(\n",
      "    (layers): ModuleList(\n",
      "      (0): TransformerEncoderLayer(\n",
      "        (self_attn): MultiheadAttention(\n",
      "          (out_proj): NonDynamicallyQuantizableLinear(in_features=128, out_features=128, bias=True)\n",
      "        )\n",
      "        (linear1): Linear(in_features=128, out_features=256, bias=True)\n",
      "        (dropout): Dropout(p=0.1, inplace=False)\n",
      "        (linear2): Linear(in_features=256, out_features=128, bias=True)\n",
      "        (norm1): LayerNorm((128,), eps=1e-05, elementwise_affine=True)\n",
      "        (norm2): LayerNorm((128,), eps=1e-05, elementwise_affine=True)\n",
      "        (dropout1): Dropout(p=0.1, inplace=False)\n",
      "        (dropout2): Dropout(p=0.1, inplace=False)\n",
      "      )\n",
      "      (1): TransformerEncoderLayer(\n",
      "        (self_attn): MultiheadAttention(\n",
      "          (out_proj): NonDynamicallyQuantizableLinear(in_features=128, out_features=128, bias=True)\n",
      "        )\n",
      "        (linear1): Linear(in_features=128, out_features=256, bias=True)\n",
      "        (dropout): Dropout(p=0.1, inplace=False)\n",
      "        (linear2): Linear(in_features=256, out_features=128, bias=True)\n",
      "        (norm1): LayerNorm((128,), eps=1e-05, elementwise_affine=True)\n",
      "        (norm2): LayerNorm((128,), eps=1e-05, elementwise_affine=True)\n",
      "        (dropout1): Dropout(p=0.1, inplace=False)\n",
      "        (dropout2): Dropout(p=0.1, inplace=False)\n",
      "      )\n",
      "    )\n",
      "  )\n",
      "  (pred_layer): Sequential(\n",
      "    (0): Linear(in_features=128, out_features=256, bias=True)\n",
      "    (1): ReLU()\n",
      "    (2): Linear(in_features=256, out_features=600, bias=True)\n",
      "  )\n",
      ")\n"
     ]
    }
   ],
   "source": [
    "class Classifier(nn.Module):\n",
    "    def __init__(self, d_model=Config.d_model):\n",
    "        super().__init__()\n",
    "\n",
    "        self.prenet = nn.Linear(Config.input_dim, d_model)\n",
    "        self.encoder_layer = nn.TransformerEncoderLayer(d_model=d_model, dim_feedforward=256, nhead=Config.nhead, dropout=Config.dropout)\n",
    "        self.encoder = nn.TransformerEncoder(self.encoder_layer, num_layers=Config.num_encoder_layer)\n",
    "        self.pred_layer = nn.Sequential(\n",
    "            nn.Linear(d_model, 256),\n",
    "            nn.ReLU(),\n",
    "            nn.Linear(256, Config.output_dim)\n",
    "        )\n",
    "\n",
    "    def forward(self, mels):\n",
    "        '''\n",
    "        mels: (batch_size, mel_length, 40)\n",
    "        return: (batch_size, speaker_number)\n",
    "        '''\n",
    "        # out: (batch size, length, d_model)\n",
    "        out = self.prenet(mels)\n",
    "        # out: (length, batch size, d_model)\n",
    "        out = out.permute(1, 0, 2)\n",
    "        # The encoder layer expect features in the shape of (length, batch size, d_model).\n",
    "        out = self.encoder(out)\n",
    "        # out: (batch size, length, d_model)\n",
    "        out = out.transpose(0, 1)\n",
    "        # mean pooling\n",
    "        # out: (batch size, d_model)\n",
    "        stats = out.mean(dim=1)      \n",
    "        # out: (batch size, n_spks) one-hat\n",
    "        out = self.pred_layer(stats)\n",
    "        return out\n",
    "\n",
    "model = Classifier()\n",
    "print(model)"
   ]
  },
  {
   "cell_type": "markdown",
   "metadata": {},
   "source": [
    "## Learning Rate Schedule"
   ]
  },
  {
   "cell_type": "code",
   "execution_count": 20,
   "metadata": {},
   "outputs": [],
   "source": [
    "def get_scheduler(optimizer: Optimizer, num_warmup_steps: int, num_training_steps: int, num_cycles: float = 0.5, last_epoch: int = -1):\n",
    "\n",
    "    def lr_lambda(current_step):   # 为了使用参数，在其内定义函数。\n",
    "        # Warmup\n",
    "        if current_step < num_warmup_steps:\n",
    "            return float(current_step) / float(max(1, num_warmup_steps))\n",
    "        # decadence\n",
    "        progress = float(current_step - num_warmup_steps) / float(\n",
    "            max(1, num_training_steps - num_warmup_steps)\n",
    "        )\n",
    "        return max(\n",
    "            0.0, 0.5 * (1.0 + np.cos(np.pi * float(num_cycles) * 2.0 * progress))\n",
    "        )\n",
    "    \n",
    "    return LambdaLR(optimizer, lr_lambda, last_epoch)"
   ]
  },
  {
   "cell_type": "markdown",
   "metadata": {},
   "source": [
    "## Training Loop"
   ]
  },
  {
   "cell_type": "code",
   "execution_count": 21,
   "metadata": {},
   "outputs": [
    {
     "name": "stdout",
     "output_type": "stream",
     "text": [
      "Begin training.\n",
      "[epoch 1/4] training loss = 4.9592, validation loss = 4.0133, acc = 0.0472 \n",
      "[epoch 2/4] training loss = 3.5390, validation loss = 3.0984, acc = 0.2009 \n",
      "[epoch 3/4] training loss = 2.7088, validation loss = 2.4423, acc = 0.3447 \n",
      "[epoch 3/4] ### model is saved at best_acc = 0.3447 \n",
      "[epoch 4/4] training loss = 2.1595, validation loss = 2.0558, acc = 0.4448 \n",
      "[epoch 4/4] ### model is saved at best_acc = 0.4448 \n",
      "End.\n"
     ]
    }
   ],
   "source": [
    "def training(model, train_loader, validate_loader):\n",
    "    model = model.to(Config.device)\n",
    "\n",
    "    criterion = nn.CrossEntropyLoss()\n",
    "    optimizer = torch.optim.AdamW(model.parameters(), weight_decay=Config.weight_decay)\n",
    "    scheduler = get_scheduler(optimizer, Config.warmup_steps, Config.n_epoch)\n",
    "\n",
    "    train_loss_epoch = []\n",
    "    validate_loss_epoch = []\n",
    "    acc_epoch = []\n",
    "    best_acc = - torch.inf\n",
    "\n",
    "    for epoch in range(Config.n_epoch):\n",
    "        # traning\n",
    "        model.train()\n",
    "        loss_batch = []\n",
    "\n",
    "        for batch in train_loader:\n",
    "            mels, labels = batch\n",
    "            mels = mels.to(Config.device)\n",
    "            labels = labels.to(Config.device)\n",
    "\n",
    "            outs = model(mels)\n",
    "            loss = criterion(outs, labels)\n",
    "            optimizer.zero_grad()\n",
    "            loss.backward()\n",
    "            optimizer.step()\n",
    "            scheduler.step()\n",
    "\n",
    "            loss_batch.append(loss.item())\n",
    "\n",
    "        trian_loss = np.mean(loss_batch)\n",
    "        train_loss_epoch.append(trian_loss)\n",
    "\n",
    "        # validation\n",
    "        model.eval()\n",
    "        loss_batch = []\n",
    "        acc_batch = []\n",
    "\n",
    "        with torch.no_grad():\n",
    "            for batch in validate_loader:\n",
    "                mels, labels = batch\n",
    "                mels = mels.to(Config.device)\n",
    "                labels = labels.to(Config.device)\n",
    "\n",
    "                outs = model(mels)\n",
    "                loss = criterion(outs, labels)\n",
    "\n",
    "                loss_batch.append(loss.item())\n",
    "                preds = outs.argmax(1)\n",
    "                t = torch.mean((preds == labels).float()).item()\n",
    "                acc_batch.append(t)\n",
    "\n",
    "        validate_loss = np.mean(loss_batch)\n",
    "        acc = np.mean(acc_batch) \n",
    "        validate_loss_epoch.append(validate_loss)\n",
    "        acc_epoch.append(acc)\n",
    "        print(f\"[epoch {epoch + 1}/{Config.n_epoch}] training loss = {trian_loss:.4f}, validation loss = {validate_loss:.4f}, acc = {acc:.4f} \")\n",
    "\n",
    "        if acc > best_acc:\n",
    "            best_acc = acc\n",
    "            if epoch >= Config.begin_saving_epoch:\n",
    "                torch.save(model.state_dict(), Config.model_save_path)\n",
    "                print(f\"[epoch {epoch + 1}/{Config.n_epoch}] ### model is saved at best_acc = {best_acc:.4f} \")\n",
    "                \n",
    "    return train_loss_epoch, validate_loss_epoch, acc_epoch\n",
    "\n",
    "dataset = MyDataset('training')\n",
    "train_set, validate_set = split_train_validate(dataset)\n",
    "train_loader = DataLoader(train_set, Config.batch_size, shuffle=True, num_workers=Config.n_worker)\n",
    "validate_loader = DataLoader(validate_set, Config.batch_size, shuffle=True, num_workers=Config.n_worker)\n",
    "print('Begin training.')\n",
    "begin = time.time()\n",
    "train_loss_epoch, validate_loss_epoch, acc_epoch = training(model, train_loader, validate_loader)\n",
    "end = time.time()\n",
    "print('End.')"
   ]
  },
  {
   "cell_type": "code",
   "execution_count": 22,
   "metadata": {},
   "outputs": [
    {
     "name": "stdout",
     "output_type": "stream",
     "text": [
      "### best training loss = 2.1595, best validation loss = 2.0558, best acc = 0.4448\n",
      "### Training total costs 0.05 hours.\n"
     ]
    }
   ],
   "source": [
    "best_training_loss = min(train_loss_epoch)\n",
    "best_validation_loss = min(validate_loss_epoch)\n",
    "best_acc = max(acc_epoch)\n",
    "print(f'### best training loss = {best_training_loss:.4f}, best validation loss = {best_validation_loss:.4f}, best acc = {best_acc:.4f}')\n",
    "total = (end - begin) / 60 / 60 # hours\n",
    "print(f'### Training total costs {total:.2f} hours.')"
   ]
  },
  {
   "cell_type": "markdown",
   "metadata": {},
   "source": [
    "## Loss Curve"
   ]
  },
  {
   "cell_type": "code",
   "execution_count": 23,
   "metadata": {},
   "outputs": [
    {
     "data": {
      "image/png": "[encoded data removed]",
      "text/plain": [
       "<Figure size 432x288 with 1 Axes>"
      ]
     },
     "metadata": {
      "needs_background": "light"
     },
     "output_type": "display_data"
    },
    {
     "data": {
      "image/png": "[encoded data removed]",
      "text/plain": [
       "<Figure size 432x288 with 1 Axes>"
      ]
     },
     "metadata": {
      "needs_background": "light"
     },
     "output_type": "display_data"
    }
   ],
   "source": [
    "x = range(1, Config.n_epoch + 1)\n",
    "\n",
    "plt.figure()\n",
    "plt.xlabel('epoch')\n",
    "plt.ylabel('loss')\n",
    "plt.plot(x, train_loss_epoch, 'r-', label='training')\n",
    "plt.plot(x, validate_loss_epoch, 'b-', label='validation')\n",
    "plt.legend()\n",
    "plt.show()\n",
    "\n",
    "plt.figure()\n",
    "plt.xlabel('epoch')\n",
    "plt.ylabel('accuracy')\n",
    "plt.plot(x, acc_epoch, 'k-')\n",
    "plt.show()"
   ]
  },
  {
   "cell_type": "markdown",
   "metadata": {},
   "source": [
    "## Test"
   ]
  },
  {
   "cell_type": "code",
   "execution_count": 28,
   "metadata": {},
   "outputs": [
    {
     "name": "stdout",
     "output_type": "stream",
     "text": [
      "prediction saved.\n"
     ]
    }
   ],
   "source": [
    "def save_prediction(result, mels_name):\n",
    "    id2speaker = get_file(Config.mapping_path)['id2speaker']\n",
    "    speakers = []\n",
    "    for id in result:\n",
    "        speakers.append(id2speaker[str(id)])\n",
    "    df = pd.DataFrame(columns=['Id', 'Category'], data={'Id':mels_name, 'Category': speakers})\n",
    "    df.to_csv('prediction.csv', index=False)\n",
    "    print('prediction saved.')\n",
    "\n",
    "def test(model, test_loader):\n",
    "    model = model.to(Config.device)\n",
    "\n",
    "    predictions = []\n",
    "    result = []\n",
    "    model.eval()\n",
    "    with torch.no_grad():\n",
    "        for _ in range(Config.num_segment):\n",
    "            preds = []\n",
    "            for batch in test_loader:\n",
    "                mels = batch\n",
    "                mels = mels.to(Config.device)\n",
    "                outs = model(mels)\n",
    "                pred_labels = outs.argmax(1).tolist()\n",
    "                preds.extend(pred_labels)\n",
    "\n",
    "            predictions.append(preds)\n",
    "\n",
    "        predictions = list(zip(*predictions))\n",
    "\n",
    "        for x in predictions:\n",
    "            result.append(max(x, key=x.count))\n",
    "    return result\n",
    "\n",
    "model = Classifier()\n",
    "model.load_state_dict(torch.load(Config.model_save_path))\n",
    "test_set = MyDataset('test')\n",
    "testloader = DataLoader(test_set, batch_size=Config.batch_size, shuffle=False)\n",
    "result = test(model, testloader)\n",
    "mels_name = test_set.data\n",
    "save_prediction(result, mels_name)"
   ]
  }
 ],
 "metadata": {
  "kernelspec": {
   "display_name": "Python 3.10.4 ('pytorch')",
   "language": "python",
   "name": "python3"
  },
  "language_info": {
   "codemirror_mode": {
    "name": "ipython",
    "version": 3
   },
   "file_extension": ".py",
   "mimetype": "text/x-python",
   "name": "python",
   "nbconvert_exporter": "python",
   "pygments_lexer": "ipython3",
   "version": "3.10.4"
  },
  "orig_nbformat": 4,
  "vscode": {
   "interpreter": {
    "hash": "71342f419acc3ba6ae382518c4ba2a9e6f9bd8751a76a463bc8e77674675b221"
   }
  }
 },
 "nbformat": 4,
 "nbformat_minor": 2
}

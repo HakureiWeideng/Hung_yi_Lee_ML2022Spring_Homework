{
 "cells": [
  {
   "cell_type": "markdown",
   "metadata": {},
   "source": [
    "# COVID-19 Cases Prediction\n",
    "\n",
    "基于 [李宏毅 ML 2022 Spring HW1](https://speech.ee.ntu.edu.tw/~hylee/ml/2022-spring.php) 。\n",
    "\n",
    "## 项目说明\n",
    "\n",
    "### 目标\n",
    "\n",
    "进行 regression ，使用过去 4 天的数据预测第 5 天的确诊病例数。\n",
    "\n",
    "### 数据格式\n",
    "\n",
    "所有数据在一张二维表中。\n",
    "\n",
    "行：（training set 不带标签共 2700 行，testing set 共 1078 行）\n",
    "\n",
    "每行是一次输入的数据。\n",
    "\n",
    "列标签：（training set 共 118 列，testing set 为 117 列）\n",
    "\n",
    "- id ，占 1 列。\n",
    "\n",
    "- 37 个 state ，采用 one-hot 编码表示，占 37 列。\n",
    "\n",
    "- 以下列标签重复 5 次（天）（共 16 x 5 列）\n",
    "\n",
    "    - 各项指标（共 15 个）\n",
    "\n",
    "        - COVID-like illness（4）\n",
    "\n",
    "        - Behavior Indicators（8）\n",
    "\n",
    "        - Mental Health Indicators（3）\n",
    "        \n",
    "    - Test Positive Cases（1 个）（确诊病例数）\n",
    "    \n",
    "        在 testing set 中，第 5 天没有该列。\n",
    "\n",
    "### 提示\n",
    "\n",
    "- simple\n",
    "\n",
    "    Sample code of the course.\n",
    "\n",
    "- medium\n",
    "\n",
    "    Feature selection.\n",
    "\n",
    "- strong\n",
    "\n",
    "    Different model architectures and optimizers.\n",
    "\n",
    "- boss\n",
    "\n",
    "    L2 regularization and try more parameters.\n",
    "\n",
    "### 实现策略\n",
    "\n",
    "- 使用 DNN ，输入列，输出预测值。\n",
    "\n",
    "- loss function 采用 MSE 。\n",
    "\n",
    "- 使用验证集。"
   ]
  },
  {
   "cell_type": "markdown",
   "metadata": {},
   "source": [
    "## 导入包"
   ]
  },
  {
   "cell_type": "code",
   "execution_count": 10,
   "metadata": {},
   "outputs": [],
   "source": [
    "import numpy as np\n",
    "import pandas as pd\n",
    "import matplotlib.pyplot as plt\n",
    "\n",
    "import torch\n",
    "import torch.nn as nn\n",
    "from torch.utils.data import random_split, Dataset, DataLoader\n",
    "\n",
    "import math   # 本例用到 inf"
   ]
  },
  {
   "cell_type": "markdown",
   "metadata": {},
   "source": [
    "## 常用函数"
   ]
  },
  {
   "cell_type": "code",
   "execution_count": 11,
   "metadata": {},
   "outputs": [],
   "source": [
    "def same_seed(seed): \n",
    "    torch.backends.cudnn.deterministic = True   # 卷积都使用默认的卷积算法\n",
    "    torch.backends.cudnn.benchmark = False   # 关闭系统卷积算法选择优化（带随机性）\n",
    "    np.random.seed(seed)   # 为程序算法设置种子。\n",
    "    torch.manual_seed(seed)   # 为 CPU 设置种子。\n",
    "    if torch.cuda.is_available():\n",
    "        torch.cuda.manual_seed_all(seed)   # 为所有 GPU 设置种子。\n",
    "\n",
    "def split_train_valid(data, valid_ratio, seed):\n",
    "    valid_size = int(len(data) * valid_ratio)\n",
    "    train_size = len(data) - valid_size\n",
    "    train_set, valid_set = random_split(data, [train_size, valid_size], generator=torch.Generator().manual_seed(seed))\n",
    "    return np.array(train_set), np.array(valid_set)"
   ]
  },
  {
   "cell_type": "markdown",
   "metadata": {},
   "source": [
    "## 模型构建"
   ]
  },
  {
   "cell_type": "code",
   "execution_count": 12,
   "metadata": {},
   "outputs": [],
   "source": [
    "class MyNN(nn.Module):\n",
    "    def __init__(self, input_dim):\n",
    "        super(MyNN, self).__init__()\n",
    "        self.layers = nn.Sequential(\n",
    "            nn.Linear(input_dim, 16),\n",
    "            nn.ReLU(),\n",
    "            nn.Linear(16, 8),\n",
    "            nn.ReLU(),\n",
    "            nn.Linear(8, 1)\n",
    "        )\n",
    "\n",
    "    def forward(self, x):\n",
    "        t = self.layers(x)\n",
    "        t = t.squeeze()   # 一次输出一个 batch 的结果:(X, 1)，将其变为一行。\n",
    "        return t "
   ]
  },
  {
   "cell_type": "markdown",
   "metadata": {},
   "source": [
    "## 数据处理"
   ]
  },
  {
   "cell_type": "code",
   "execution_count": 13,
   "metadata": {},
   "outputs": [],
   "source": [
    "class COVID19Dataset(Dataset):\n",
    "    def __init__(self, x, y = None):\n",
    "        self.x = torch.FloatTensor(x)\n",
    "        if y is None:\n",
    "            self.y = None\n",
    "        else:\n",
    "            self.y = torch.FloatTensor(y)\n",
    "    \n",
    "    def __getitem__(self, idx):\n",
    "        if self.y == None:\n",
    "            return self.x[idx]\n",
    "        else:\n",
    "            return self.x[idx], self.y[idx]   # 取一行\n",
    "\n",
    "    def __len__(self):\n",
    "        return len(self.x)   # x 的长度\n",
    "\n",
    "def selet_feature(train_data, valid_data, test_data, use_feature = []):   # 选取列\n",
    "    if use_feature == []:\n",
    "        feature_idx = list(range(118))\n",
    "    else:\n",
    "        feature_idx = [] if -1 not in use_feature else list(range(1, 38))   # id 占一列\n",
    "        base = 38\n",
    "        for i in range(5):\n",
    "            for x in use_feature:\n",
    "                feature_idx.append(base + x)\n",
    "            base += 16\n",
    "    feature_idx_test = feature_idx.copy()   # This is the shallow copt, the deepcopy() is better.\n",
    "    if 117 not in feature_idx:   # 如果不选 15 ，即计算后的下标 117 列，则在数据分离为 x_train 和 y_train 时，x_train 会被额外去掉一列。\n",
    "        feature_idx.append(117)   # 至少要将下标 117 列提供给后续的 y_train 。\n",
    "    else:\n",
    "        feature_idx_test.remove(117)   # test_data has only 117 columns\n",
    "    return train_data[:, feature_idx], valid_data[:, feature_idx], test_data[:, feature_idx_test]"
   ]
  },
  {
   "cell_type": "markdown",
   "metadata": {},
   "source": [
    "## 训练"
   ]
  },
  {
   "cell_type": "code",
   "execution_count": 14,
   "metadata": {},
   "outputs": [],
   "source": [
    "def train(train_loader, valid_loader, model, config, device):\n",
    "    criterion = nn.MSELoss(reduction= 'mean')\n",
    "    optimizer = torch.optim.SGD(model.parameters(), lr= config['learning_rate'], momentum=config['momentum'])\n",
    "    \n",
    "    loss_train_per_epoch = []   # the mean loss of every epoch\n",
    "    loss_valid_per_epoch = []\n",
    "    n_epoch, best_loss, early_stop_count = config['n_epoch'], math.inf, 0\n",
    "\n",
    "    for epoch in range(n_epoch):\n",
    "        model.train()   # 训练\n",
    "        loss_in_epoch = []\n",
    "        for x, y in train_loader:\n",
    "            optimizer.zero_grad()\n",
    "            x, y = x.to(device), y.to(device)\n",
    "            predict = model(x)   # forward\n",
    "            loss = criterion(predict, y)\n",
    "            loss.backward()\n",
    "            optimizer.step()\n",
    "            loss_in_epoch.append(loss.item())\n",
    "\n",
    "        mean_train_loss = sum(loss_in_epoch) / len(loss_in_epoch)\n",
    "\n",
    "        model.eval()   # 验证\n",
    "        loss_in_epoch = []\n",
    "        for x, y in valid_loader:\n",
    "            x, y = x.to(device), y.to(device)\n",
    "            with torch.no_grad():\n",
    "                predict = model(x)\n",
    "                loss = criterion(predict, y)\n",
    "            loss_in_epoch.append(loss.item())\n",
    "        \n",
    "        mean_valid_loss = sum(loss_in_epoch) / len(loss_in_epoch)\n",
    "\n",
    "        loss_train_per_epoch.append(mean_train_loss)\n",
    "        loss_valid_per_epoch.append(mean_valid_loss)\n",
    "\n",
    "        print(f\"##### epoch: {epoch+1} / {n_epoch}\")\n",
    "        print(f\"train loss: {mean_train_loss:.4f}\")\n",
    "        print(f\"valid loss: {mean_valid_loss:.4f}\")\n",
    "\n",
    "        if mean_valid_loss < best_loss:\n",
    "            best_loss = mean_valid_loss\n",
    "            torch.save(model.state_dict(), config['save_path'])\n",
    "            print(f\"##### save model with valid loss:{best_loss: .4f} #####\")\n",
    "            early_stop_count = 0\n",
    "        else:\n",
    "            early_stop_count += 1\n",
    "\n",
    "        if early_stop_count >= config['early_stop']:\n",
    "            print(\"##### early stop ! #####\")\n",
    "            break\n",
    "\n",
    "    return loss_train_per_epoch, loss_valid_per_epoch, n_epoch, best_loss"
   ]
  },
  {
   "cell_type": "markdown",
   "metadata": {},
   "source": [
    "## 模型配置"
   ]
  },
  {
   "cell_type": "code",
   "execution_count": 15,
   "metadata": {},
   "outputs": [
    {
     "name": "stdout",
     "output_type": "stream",
     "text": [
      "Using cpu device\n"
     ]
    }
   ],
   "source": [
    "device = 'cuda' if torch.cuda.is_available() else 'cpu'\n",
    "print(f\"Using {device} device\")\n",
    "config = {\n",
    "    'seed': 923,\n",
    "    'use_feature': [15],   # id 列默认不选，state 的 37 列以 -1 表示，列表为空代表全选，列表内数字代表要选择的非 state 的 feature 的编号（从 0 开始）。\n",
    "    'valid_ratio': 0.2,\n",
    "    'batch_size': 256,\n",
    "    'learning_rate': 1e-5,\n",
    "    'momentum': 0.9,\n",
    "    'n_epoch': 1000,\n",
    "    'early_stop': 300,\n",
    "    'save_path': 'model.ckpt',\n",
    "    'predict_filename': 'predict.csv'\n",
    "}"
   ]
  },
  {
   "cell_type": "markdown",
   "metadata": {},
   "source": [
    "## main"
   ]
  },
  {
   "cell_type": "code",
   "execution_count": 16,
   "metadata": {},
   "outputs": [
    {
     "name": "stdout",
     "output_type": "stream",
     "text": [
      "train_data size: (2160, 118)\n",
      "valid_data size: (539, 118)\n",
      "test_data size: (1078, 117)\n",
      "Total feature number: 4\n",
      "##### epoch: 1 / 10\n",
      "train loss: 121.8904\n",
      "valid loss: 106.5623\n",
      "##### save model with valid loss: 106.5623 #####\n",
      "##### epoch: 2 / 10\n",
      "train loss: 107.0936\n",
      "valid loss: 99.4974\n",
      "##### save model with valid loss: 99.4974 #####\n",
      "##### epoch: 3 / 10\n",
      "train loss: 85.4076\n",
      "valid loss: 71.4082\n",
      "##### save model with valid loss: 71.4082 #####\n",
      "##### epoch: 4 / 10\n",
      "train loss: 57.4114\n",
      "valid loss: 43.4525\n",
      "##### save model with valid loss: 43.4525 #####\n",
      "##### epoch: 5 / 10\n",
      "train loss: 26.0176\n",
      "valid loss: 12.0273\n",
      "##### save model with valid loss: 12.0273 #####\n",
      "##### epoch: 6 / 10\n",
      "train loss: 5.6689\n",
      "valid loss: 1.7894\n",
      "##### save model with valid loss: 1.7894 #####\n",
      "##### epoch: 7 / 10\n",
      "train loss: 2.3128\n",
      "valid loss: 3.4628\n",
      "##### epoch: 8 / 10\n",
      "train loss: 3.2608\n",
      "valid loss: 2.5835\n",
      "##### epoch: 9 / 10\n",
      "train loss: 2.2547\n",
      "valid loss: 1.8373\n",
      "##### epoch: 10 / 10\n",
      "train loss: 1.9032\n",
      "valid loss: 1.9545\n",
      "best_loss: 1.7894452412923176\n"
     ]
    }
   ],
   "source": [
    "# def main(config, device) is beter.\n",
    "same_seed(config['seed'])\n",
    "\n",
    "# 读取并转化\n",
    "train_data = pd.read_csv(\"./data/covid.train.csv\").values\n",
    "test_data = pd.read_csv(\"./data/covid.test.csv\").values\n",
    "\n",
    "train_data, valid_data = split_train_valid(train_data, 0.2, config['seed'])   # 只打乱行\n",
    "print(f\"train_data size: {train_data.shape}\")\n",
    "print(f\"valid_data size: {valid_data.shape}\")\n",
    "print(f\"test_data size: {test_data.shape}\")\n",
    "\n",
    "# 特征选取\n",
    "train_data, valid_data, test_data = selet_feature(train_data, valid_data, test_data, config['use_feature'])   # 选取列\n",
    "print(f\"Total feature number: {test_data.shape[1]}\")\n",
    "\n",
    "# 划分 data 和 label\n",
    "x_train, y_train = train_data[:, :-1], train_data[:, -1]\n",
    "x_valid, y_valid = valid_data[:, :-1], valid_data[:, -1]\n",
    "x_test = test_data\n",
    "tain_dataset = COVID19Dataset(x_train, y_train)\n",
    "valid_dataset = COVID19Dataset(x_valid, y_valid)\n",
    "test_dataset = COVID19Dataset(x_test)\n",
    "\n",
    "# 划分 batch ，形成 loader\n",
    "train_loader = DataLoader(tain_dataset, batch_size=config['batch_size'], shuffle=True, pin_memory=True)\n",
    "valid_loader = DataLoader(valid_dataset, batch_size=config['batch_size'], shuffle=True, pin_memory=True)\n",
    "test_loader = DataLoader(test_dataset, batch_size=config['batch_size'], shuffle=False, pin_memory=True)\n",
    "\n",
    "model = MyNN(input_dim=x_train.shape[1]).to(device)\n",
    "loss_train_per_epoch, loss_valid_per_epoch, n_epoch, best_loss = train(train_loader, valid_loader, model, config, device)\n",
    "print(f\"best_loss: {best_loss}\")"
   ]
  },
  {
   "cell_type": "markdown",
   "metadata": {},
   "source": [
    "## Loss 图"
   ]
  },
  {
   "cell_type": "code",
   "execution_count": 17,
   "metadata": {},
   "outputs": [
    {
     "data": {
      "image/png": "[encoded data removed]",
      "text/plain": [
       "<Figure size 432x288 with 1 Axes>"
      ]
     },
     "metadata": {
      "needs_background": "light"
     },
     "output_type": "display_data"
    }
   ],
   "source": [
    "plt.figure()\n",
    "plt.xlabel(\"Epoch\")\n",
    "plt.ylabel(\"Loss\")\n",
    "epoch = range(len(loss_train_per_epoch))   # may stop early\n",
    "plt.plot(epoch, loss_train_per_epoch, \"r-\", label=\"train\")\n",
    "plt.plot(epoch, loss_valid_per_epoch, \"g-\", label=\"valid\")\n",
    "plt.legend()\n",
    "plt.show()"
   ]
  },
  {
   "cell_type": "markdown",
   "metadata": {},
   "source": [
    "## 预测"
   ]
  },
  {
   "cell_type": "code",
   "execution_count": 19,
   "metadata": {},
   "outputs": [
    {
     "name": "stdout",
     "output_type": "stream",
     "text": [
      "cpu\n",
      "cpu\n",
      "cpu\n",
      "cpu\n",
      "cpu\n"
     ]
    }
   ],
   "source": [
    "def predict(model, test_loader, device):\n",
    "    model.eval()\n",
    "    predict_record = []\n",
    "    for x in test_loader:\n",
    "        x = x.to(device)\n",
    "        with torch.no_grad():\n",
    "            t = model(x)\n",
    "            print(t.device)\n",
    "            predict_record += t.tolist()\n",
    "    return predict_record\n",
    "\n",
    "model = MyNN(input_dim=x_train.shape[1]).to(device)\n",
    "model.load_state_dict(torch.load(config['save_path']))\n",
    "\n",
    "result = predict(model, test_loader, device)\n",
    "\n",
    "# save result\n",
    "df = pd.DataFrame({'tested_positive': result})\n",
    "df.to_csv(config['predict_filename'], index_label='id')"
   ]
  }
 ],
 "metadata": {
  "kernelspec": {
   "display_name": "Python 3.10.4 ('pytorch')",
   "language": "python",
   "name": "python3"
  },
  "language_info": {
   "codemirror_mode": {
    "name": "ipython",
    "version": 3
   },
   "file_extension": ".py",
   "mimetype": "text/x-python",
   "name": "python",
   "nbconvert_exporter": "python",
   "pygments_lexer": "ipython3",
   "version": "3.10.4"
  },
  "orig_nbformat": 4,
  "vscode": {
   "interpreter": {
    "hash": "71342f419acc3ba6ae382518c4ba2a9e6f9bd8751a76a463bc8e77674675b221"
   }
  }
 },
 "nbformat": 4,
 "nbformat_minor": 2
}
